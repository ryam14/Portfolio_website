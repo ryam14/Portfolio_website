{
  "nbformat": 4,
  "nbformat_minor": 0,
  "metadata": {
    "colab": {
      "provenance": [],
      "mount_file_id": "1Xp1iHwLNo4bDUHzeIcQD1OrjrkQRbqAv",
      "authorship_tag": "ABX9TyP3xxumEKTemwh8gvHDLs/v",
      "include_colab_link": true
    },
    "kernelspec": {
      "name": "python3",
      "display_name": "Python 3"
    },
    "language_info": {
      "name": "python"
    }
  },
  "cells": [
    {
      "cell_type": "markdown",
      "metadata": {
        "id": "view-in-github",
        "colab_type": "text"
      },
      "source": [
        "<a href=\"https://colab.research.google.com/github/ryam14/Portfolio_website/blob/main/whisper.ipynb\" target=\"_parent\"><img src=\"https://colab.research.google.com/assets/colab-badge.svg\" alt=\"Open In Colab\"/></a>"
      ]
    },
    {
      "cell_type": "code",
      "source": [
        "from IPython.display import HTML\n",
        "from base64 import b64decode"
      ],
      "metadata": {
        "id": "G1HNE_0pvU_V"
      },
      "execution_count": null,
      "outputs": []
    },
    {
      "cell_type": "code",
      "source": [
        "RECORD = \"\"\"\n",
        "<!DOCTYPE html>\n",
        "<html lang=\"en\">\n",
        "<head>\n",
        "  <meta charset=\"UTF-8\">\n",
        "  <meta name=\"viewport\" content=\"width=device-width, initial-scale=1.0\">\n",
        "  <title>Audio Recorder</title>\n",
        "</head>\n",
        "<body>\n",
        "  <h1>Audio Recorder</h1>\n",
        "  <button id=\"startButton\">Start</button>\n",
        "  <button id=\"endButton\">End</button>\n",
        "  <p id=\"log\"></p>\n",
        "\n",
        "  <script>\n",
        "    const sleep = time => new Promise(resolve => setTimeout(resolve, time));\n",
        "    const b2text = blob => new Promise(resolve => {\n",
        "      const reader = new FileReader();\n",
        "      reader.onloadend = e => resolve(e.srcElement.result);\n",
        "      reader.readAsDataURL(blob);\n",
        "    });\n",
        "\n",
        "    let recorder = null;\n",
        "    let chunks = [];\n",
        "    let stream = null;\n",
        "\n",
        "    const record = () => new Promise((resolve, reject) => {\n",
        "      const startRecording = async () => {\n",
        "        try {\n",
        "          stream = await navigator.mediaDevices.getUserMedia({ audio: true });\n",
        "          recorder = new MediaRecorder(stream);\n",
        "          chunks = [];\n",
        "\n",
        "          recorder.ondataavailable = e => chunks.push(e.data);\n",
        "\n",
        "          recorder.start();\n",
        "          document.getElementById(\"log\").innerText = \"Recording started...\";\n",
        "        } catch (err) {\n",
        "          console.error(\"Error accessing microphone: \", err);\n",
        "          reject(err);\n",
        "        }\n",
        "      };\n",
        "\n",
        "      const stopRecording = async () => {\n",
        "        if (!recorder || recorder.state !== \"recording\") {\n",
        "          document.getElementById(\"log\").innerText = \"No active recording to stop.\";\n",
        "          reject(\"No active recording\");\n",
        "          return;\n",
        "        }\n",
        "\n",
        "        recorder.onstop = async () => {\n",
        "          const blob = new Blob(chunks);\n",
        "          const text = await b2text(blob);\n",
        "          console.log(\"Recording stopped\");\n",
        "          document.getElementById(\"log\").innerText = \"Recording stopped. Check console for Base64 audio data.\";\n",
        "          resolve(text);\n",
        "          stream.getTracks().forEach(track => track.stop());\n",
        "        };\n",
        "\n",
        "        recorder.stop();\n",
        "      };\n",
        "\n",
        "      document.getElementById(\"startButton\").addEventListener(\"click\", startRecording);\n",
        "      document.getElementById(\"endButton\").addEventListener(\"click\", stopRecording);\n",
        "    });\n",
        "  </script>\n",
        "</body>\n",
        "</html>\n",
        "\"\"\"\n",
        "\n",
        "def record():\n",
        "  try:\n",
        "    from google.colab import output\n",
        "  except ImportError:\n",
        "    print('No possible to import output from google.colab')\n",
        "    return ''\n",
        "  else:\n",
        "    print('Recording')\n",
        "    # Display HTML interface\n",
        "    display(HTML(RECORD))\n",
        "\n",
        "    # Use JavaScript to start and stop recording, and return Base64 audio data\n",
        "    try:\n",
        "      s = output.eval_js('record()')  # This will return Base64-encoded audio data\n",
        "      fname = '/content/recorded_audio.wav'\n",
        "      print('Saving to', fname)\n",
        "\n",
        "      # Decode Base64 and save as a .wav file\n",
        "      b = b64decode(s.split(',')[1])\n",
        "      with open(fname, 'wb') as f:\n",
        "        f.write(b)\n",
        "      return fname\n",
        "    except Exception as e:\n",
        "      print(f\"An error occurred: {e}\")\n",
        "      return ''"
      ],
      "metadata": {
        "id": "ap_JJh7C4cGU"
      },
      "execution_count": null,
      "outputs": []
    },
    {
      "cell_type": "code",
      "execution_count": null,
      "metadata": {
        "colab": {
          "base_uri": "https://localhost:8080/"
        },
        "id": "INTir8AyykWw",
        "outputId": "496a6b08-7188-4544-8f03-3830e8adf6c6"
      },
      "outputs": [
        {
          "output_type": "stream",
          "name": "stdout",
          "text": [
            "Collecting git+https://github.com/openai/whisper.git\n",
            "  Cloning https://github.com/openai/whisper.git to /tmp/pip-req-build-7dzg18p_\n",
            "  Running command git clone --filter=blob:none --quiet https://github.com/openai/whisper.git /tmp/pip-req-build-7dzg18p_\n",
            "  Resolved https://github.com/openai/whisper.git to commit 90db0de1896c23cbfaf0c58bc2d30665f709f170\n",
            "  Installing build dependencies ... \u001b[?25l\u001b[?25hdone\n",
            "  Getting requirements to build wheel ... \u001b[?25l\u001b[?25hdone\n",
            "  Preparing metadata (pyproject.toml) ... \u001b[?25l\u001b[?25hdone\n",
            "Requirement already satisfied: numba in /usr/local/lib/python3.10/dist-packages (from openai-whisper==20240930) (0.60.0)\n",
            "Requirement already satisfied: numpy in /usr/local/lib/python3.10/dist-packages (from openai-whisper==20240930) (1.26.4)\n",
            "Requirement already satisfied: torch in /usr/local/lib/python3.10/dist-packages (from openai-whisper==20240930) (2.5.1+cu121)\n",
            "Requirement already satisfied: tqdm in /usr/local/lib/python3.10/dist-packages (from openai-whisper==20240930) (4.67.1)\n",
            "Requirement already satisfied: more-itertools in /usr/local/lib/python3.10/dist-packages (from openai-whisper==20240930) (10.5.0)\n",
            "Requirement already satisfied: tiktoken in /usr/local/lib/python3.10/dist-packages (from openai-whisper==20240930) (0.8.0)\n",
            "Requirement already satisfied: triton>=2.0.0 in /usr/local/lib/python3.10/dist-packages (from openai-whisper==20240930) (3.1.0)\n",
            "Requirement already satisfied: filelock in /usr/local/lib/python3.10/dist-packages (from triton>=2.0.0->openai-whisper==20240930) (3.16.1)\n",
            "Requirement already satisfied: llvmlite<0.44,>=0.43.0dev0 in /usr/local/lib/python3.10/dist-packages (from numba->openai-whisper==20240930) (0.43.0)\n",
            "Requirement already satisfied: regex>=2022.1.18 in /usr/local/lib/python3.10/dist-packages (from tiktoken->openai-whisper==20240930) (2024.11.6)\n",
            "Requirement already satisfied: requests>=2.26.0 in /usr/local/lib/python3.10/dist-packages (from tiktoken->openai-whisper==20240930) (2.32.3)\n",
            "Requirement already satisfied: typing-extensions>=4.8.0 in /usr/local/lib/python3.10/dist-packages (from torch->openai-whisper==20240930) (4.12.2)\n",
            "Requirement already satisfied: networkx in /usr/local/lib/python3.10/dist-packages (from torch->openai-whisper==20240930) (3.4.2)\n",
            "Requirement already satisfied: jinja2 in /usr/local/lib/python3.10/dist-packages (from torch->openai-whisper==20240930) (3.1.4)\n",
            "Requirement already satisfied: fsspec in /usr/local/lib/python3.10/dist-packages (from torch->openai-whisper==20240930) (2024.10.0)\n",
            "Requirement already satisfied: sympy==1.13.1 in /usr/local/lib/python3.10/dist-packages (from torch->openai-whisper==20240930) (1.13.1)\n",
            "Requirement already satisfied: mpmath<1.4,>=1.1.0 in /usr/local/lib/python3.10/dist-packages (from sympy==1.13.1->torch->openai-whisper==20240930) (1.3.0)\n",
            "Requirement already satisfied: charset-normalizer<4,>=2 in /usr/local/lib/python3.10/dist-packages (from requests>=2.26.0->tiktoken->openai-whisper==20240930) (3.4.0)\n",
            "Requirement already satisfied: idna<4,>=2.5 in /usr/local/lib/python3.10/dist-packages (from requests>=2.26.0->tiktoken->openai-whisper==20240930) (3.10)\n",
            "Requirement already satisfied: urllib3<3,>=1.21.1 in /usr/local/lib/python3.10/dist-packages (from requests>=2.26.0->tiktoken->openai-whisper==20240930) (2.2.3)\n",
            "Requirement already satisfied: certifi>=2017.4.17 in /usr/local/lib/python3.10/dist-packages (from requests>=2.26.0->tiktoken->openai-whisper==20240930) (2024.12.14)\n",
            "Requirement already satisfied: MarkupSafe>=2.0 in /usr/local/lib/python3.10/dist-packages (from jinja2->torch->openai-whisper==20240930) (3.0.2)\n"
          ]
        }
      ],
      "source": [
        "!pip install git+https://github.com/openai/whisper.git\n"
      ]
    },
    {
      "cell_type": "code",
      "source": [
        "import whisper"
      ],
      "metadata": {
        "id": "3joDZzcjzBi3"
      },
      "execution_count": null,
      "outputs": []
    },
    {
      "cell_type": "code",
      "source": [
        "model = whisper.load_model('medium')"
      ],
      "metadata": {
        "colab": {
          "base_uri": "https://localhost:8080/"
        },
        "id": "jU5z5RE-1cEc",
        "outputId": "9762d943-734a-4452-f3d6-91f5ef45622c"
      },
      "execution_count": null,
      "outputs": [
        {
          "output_type": "stream",
          "name": "stderr",
          "text": [
            "100%|█████████████████████████████████████| 1.42G/1.42G [00:19<00:00, 77.5MiB/s]\n",
            "/usr/local/lib/python3.10/dist-packages/whisper/__init__.py:150: FutureWarning: You are using `torch.load` with `weights_only=False` (the current default value), which uses the default pickle module implicitly. It is possible to construct malicious pickle data which will execute arbitrary code during unpickling (See https://github.com/pytorch/pytorch/blob/main/SECURITY.md#untrusted-models for more details). In a future release, the default value for `weights_only` will be flipped to `True`. This limits the functions that could be executed during unpickling. Arbitrary objects will no longer be allowed to be loaded via this mode unless they are explicitly allowlisted by the user via `torch.serialization.add_safe_globals`. We recommend you start setting `weights_only=True` for any use case where you don't have full control of the loaded file. Please open an issue on GitHub for any issues related to this experimental feature.\n",
            "  checkpoint = torch.load(fp, map_location=device)\n"
          ]
        }
      ]
    },
    {
      "cell_type": "code",
      "source": [
        "record()"
      ],
      "metadata": {
        "colab": {
          "base_uri": "https://localhost:8080/",
          "height": 173
        },
        "id": "7Pdr5XVTzNZn",
        "outputId": "344c3a5d-2d04-485c-9295-8940c53a21c3"
      },
      "execution_count": null,
      "outputs": [
        {
          "output_type": "stream",
          "name": "stdout",
          "text": [
            "Recording\n"
          ]
        },
        {
          "output_type": "display_data",
          "data": {
            "text/plain": [
              "<IPython.core.display.HTML object>"
            ],
            "text/html": [
              "\n",
              "<!DOCTYPE html>\n",
              "<html lang=\"en\">\n",
              "<head>\n",
              "  <meta charset=\"UTF-8\">\n",
              "  <meta name=\"viewport\" content=\"width=device-width, initial-scale=1.0\">\n",
              "  <title>Audio Recorder</title>\n",
              "</head>\n",
              "<body>\n",
              "  <h1>Audio Recorder</h1>\n",
              "  <button id=\"startButton\">Start</button>\n",
              "  <button id=\"endButton\">End</button>\n",
              "  <p id=\"log\"></p>\n",
              "\n",
              "  <script>\n",
              "    const sleep = time => new Promise(resolve => setTimeout(resolve, time));\n",
              "    const b2text = blob => new Promise(resolve => {\n",
              "      const reader = new FileReader();\n",
              "      reader.onloadend = e => resolve(e.srcElement.result);\n",
              "      reader.readAsDataURL(blob);\n",
              "    });\n",
              "\n",
              "    let recorder = null;\n",
              "    let chunks = [];\n",
              "    let stream = null;\n",
              "\n",
              "    const record = () => new Promise((resolve, reject) => {\n",
              "      const startRecording = async () => {\n",
              "        try {\n",
              "          stream = await navigator.mediaDevices.getUserMedia({ audio: true });\n",
              "          recorder = new MediaRecorder(stream);\n",
              "          chunks = [];\n",
              "\n",
              "          recorder.ondataavailable = e => chunks.push(e.data);\n",
              "\n",
              "          recorder.start();\n",
              "          document.getElementById(\"log\").innerText = \"Recording started...\";\n",
              "        } catch (err) {\n",
              "          console.error(\"Error accessing microphone: \", err);\n",
              "          reject(err);\n",
              "        }\n",
              "      };\n",
              "\n",
              "      const stopRecording = async () => {\n",
              "        if (!recorder || recorder.state !== \"recording\") {\n",
              "          document.getElementById(\"log\").innerText = \"No active recording to stop.\";\n",
              "          reject(\"No active recording\");\n",
              "          return;\n",
              "        }\n",
              "\n",
              "        recorder.onstop = async () => {\n",
              "          const blob = new Blob(chunks);\n",
              "          const text = await b2text(blob);\n",
              "          console.log(\"Recording stopped\");\n",
              "          document.getElementById(\"log\").innerText = \"Recording stopped. Check console for Base64 audio data.\";\n",
              "          resolve(text);\n",
              "          stream.getTracks().forEach(track => track.stop());\n",
              "        };\n",
              "\n",
              "        recorder.stop();\n",
              "      };\n",
              "\n",
              "      document.getElementById(\"startButton\").addEventListener(\"click\", startRecording);\n",
              "      document.getElementById(\"endButton\").addEventListener(\"click\", stopRecording);\n",
              "    });\n",
              "  </script>\n",
              "</body>\n",
              "</html>\n"
            ]
          },
          "metadata": {}
        },
        {
          "output_type": "stream",
          "name": "stdout",
          "text": [
            "Saving to /content/recorded_audio.wav\n"
          ]
        },
        {
          "output_type": "execute_result",
          "data": {
            "text/plain": [
              "'/content/recorded_audio.wav'"
            ],
            "application/vnd.google.colaboratory.intrinsic+json": {
              "type": "string"
            }
          },
          "metadata": {},
          "execution_count": 16
        }
      ]
    },
    {
      "cell_type": "code",
      "source": [
        "result = model.transcribe('/content/recorded_audio.wav', verbose=True)\n",
        "print(result['text'])\n",
        "\n",
        "with open(\"/content/transcription.txt\", \"a\", encoding=\"utf-8\") as txt:\n",
        "    txt.write(result[\"text\"])"
      ],
      "metadata": {
        "colab": {
          "base_uri": "https://localhost:8080/"
        },
        "id": "H1yKy3j51lYE",
        "outputId": "39ba2f85-a7e6-4882-cc6f-9440912a70d3"
      },
      "execution_count": null,
      "outputs": [
        {
          "output_type": "stream",
          "name": "stdout",
          "text": [
            "Detecting language using up to the first 30 seconds. Use `--language` to specify the language\n"
          ]
        },
        {
          "output_type": "stream",
          "name": "stderr",
          "text": [
            "/usr/local/lib/python3.10/dist-packages/whisper/transcribe.py:132: UserWarning: FP16 is not supported on CPU; using FP32 instead\n",
            "  warnings.warn(\"FP16 is not supported on CPU; using FP32 instead\")\n"
          ]
        },
        {
          "output_type": "stream",
          "name": "stdout",
          "text": [
            "Detected language: Japanese\n",
            "[00:00.000 --> 00:13.000] 視聴率はもしの結果、今でしょの名フレーズが、YOU CANの信号流行語大賞に選ばれてからすでに11年が経った。\n",
            "視聴率はもしの結果、今でしょの名フレーズが、YOU CANの信号流行語大賞に選ばれてからすでに11年が経った。\n"
          ]
        }
      ]
    }
  ]
}